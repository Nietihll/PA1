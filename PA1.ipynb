{
 "cells": [
  {
   "cell_type": "markdown",
   "id": "3931da2e",
   "metadata": {},
   "source": [
    "# Programming Assignment 1\n",
    "\n",
    "## Luke Jennings, 1.0, CS-150-02"
   ]
  },
  {
   "cell_type": "code",
   "execution_count": 32,
   "id": "08ab4dce",
   "metadata": {},
   "outputs": [
    {
     "name": "stdout",
     "output_type": "stream",
     "text": [
      "Please enter a floating number:5.7\n",
      "Please enter an interger:4\n",
      "The sum is 9.7\n",
      "The difference is 1.7000000000000002\n",
      "The product is 22.8\n",
      "The the quotient is 1.425\n",
      "The type for the result is <class 'float'>\n"
     ]
    }
   ],
   "source": [
    "#Luke Jennings\n",
    "\n",
    "\n",
    "number1 = float(input('Please enter a floating number:')) \n",
    "number2 = int(input('Please enter an interger:'))\n",
    "result = (number1 + number2)\n",
    "print('The sum is',number1 + number2)\n",
    "print('The difference is',number1 - number2)\n",
    "print('The product is',number1 * number2)\n",
    "print('The the quotient is',number1 / number2)\n",
    "print('The type for the result is',type(result))"
   ]
  },
  {
   "cell_type": "code",
   "execution_count": null,
   "id": "856e1f1f",
   "metadata": {},
   "outputs": [],
   "source": []
  }
 ],
 "metadata": {
  "kernelspec": {
   "display_name": "Python 3",
   "language": "python",
   "name": "python3"
  },
  "language_info": {
   "codemirror_mode": {
    "name": "ipython",
    "version": 3
   },
   "file_extension": ".py",
   "mimetype": "text/x-python",
   "name": "python",
   "nbconvert_exporter": "python",
   "pygments_lexer": "ipython3",
   "version": "3.8.8"
  }
 },
 "nbformat": 4,
 "nbformat_minor": 5
}
